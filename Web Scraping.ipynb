{
 "cells": [
  {
   "cell_type": "code",
   "execution_count": 1,
   "id": "bb300696",
   "metadata": {},
   "outputs": [],
   "source": [
    "from bs4 import BeautifulSoup\n",
    "import requests\n",
    "import pandas as pd"
   ]
  },
  {
   "cell_type": "code",
   "execution_count": 2,
   "id": "9cff3f77",
   "metadata": {},
   "outputs": [
    {
     "name": "stdout",
     "output_type": "stream",
     "text": [
      "Enter number of pages:5\n"
     ]
    }
   ],
   "source": [
    "phone_name = []\n",
    "phone_price = []\n",
    "\n",
    "#Page number should be <= 14 as website contains only 14 pages\n",
    "\n",
    "page_num = int(input(\"Enter number of pages:\"))\n",
    "for i in range(1, page_num+1):\n",
    "    url=\"https://www.flipkart.com/mobiles/mi~brand/pr?sid=tyy%2C4io&otracker=nmenu_sub_Electronics_0_Mi&page=\"+str(i)\n",
    "    flipkartstore = requests.get(url)\n",
    "    content = BeautifulSoup(flipkartstore.content,'html.parser')\n",
    "    \n",
    "    name = content.find_all('div',{\"class\":\"_4rR01T\"})\n",
    "    price = content.find_all('div',{\"class\":\"_30jeq3 _1_WHN1\"})\n",
    "    \n",
    "    for i in name:\n",
    "        phone_name.append(i.text)\n",
    "    for i in price:\n",
    "        phone_price.append(i.text)\n"
   ]
  },
  {
   "cell_type": "code",
   "execution_count": 3,
   "id": "04baf3d4",
   "metadata": {},
   "outputs": [],
   "source": [
    "data = {\"Phone Name\":phone_name, \"Phone Price\":phone_price}\n",
    "df=pd.DataFrame(data)\n",
    "df.to_csv('mi_phone_1.csv')"
   ]
  }
 ],
 "metadata": {
  "kernelspec": {
   "display_name": "Python 3 (ipykernel)",
   "language": "python",
   "name": "python3"
  },
  "language_info": {
   "codemirror_mode": {
    "name": "ipython",
    "version": 3
   },
   "file_extension": ".py",
   "mimetype": "text/x-python",
   "name": "python",
   "nbconvert_exporter": "python",
   "pygments_lexer": "ipython3",
   "version": "3.9.7"
  }
 },
 "nbformat": 4,
 "nbformat_minor": 5
}
